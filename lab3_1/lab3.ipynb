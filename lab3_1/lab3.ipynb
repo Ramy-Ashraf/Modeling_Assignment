{
 "cells": [
  {
   "cell_type": "markdown",
   "metadata": {},
   "source": [
    "ziad amr salah 1190103\n",
    "ramy ashraf \n",
    "\n",
    "spice Circuit simulation engine"
   ]
  },
  {
   "cell_type": "markdown",
   "metadata": {},
   "source": [
    "inputfile shape\n",
    "\n",
    "    Netlist Format:\n",
    "    Simulation_time\n",
    "    # of iterations\n",
    "    -Component 1\n",
    "    -Component2\n",
    "    …\n",
    "    -1 (indicates end of input)\n",
    "    Each component has the following format:\n",
    "    ------------------------------------------------------------------------------\n",
    "    Component_Type | Node1 | Node2 | Value | Initial_Value\n",
    "    ------------------------------------------------------------------------------\n",
    "\n",
    "    - Component_Type stands for the type of the component. It can be one of the following"
   ]
  },
  {
   "cell_type": "code",
   "execution_count": 107,
   "metadata": {},
   "outputs": [],
   "source": [
    "import numpy as np\n"
   ]
  },
  {
   "cell_type": "code",
   "execution_count": 102,
   "metadata": {},
   "outputs": [],
   "source": [
    "def read_circuit_file(file_name):\n",
    "    with open(file_name) as f:\n",
    "        lines = f.readlines()\n",
    "    \n",
    "    Vsources = {} \n",
    "    Resistors = {}\n",
    "    Isources = {}\n",
    "    sim_params = {}\n",
    "    sim_params_count = 0\n",
    "    R_count = 0\n",
    "    Vsrc_count = 0\n",
    "    Isrc_count = 0\n",
    "    \n",
    "    for line in lines:\n",
    "        if line.startswith('-'):\n",
    "            break\n",
    "        \n",
    "        parts = line.split()\n",
    "        #print(parts)\n",
    "        if parts[0] == 'Vsrc':\n",
    "            Vsources[str(Vsrc_count)] = (parts[1][1], parts[2][1], parts[3], parts[4]) # ex for V0 Taking only the 0, V1 -> 1, V2 -> 2\n",
    "            Vsrc_count+=1\n",
    "        elif parts[0] == 'Isrc':\n",
    "            Isources[str(Isrc_count)] = (parts[1][1], parts[2][1], parts[3], parts[4])\n",
    "            Isrc_count+=1\n",
    "        elif parts[0] == 'R':\n",
    "            Resistors[str(R_count)] = (parts[1][1], parts[2][1], parts[3], parts[4])\n",
    "            R_count+=1\n",
    "        elif sim_params_count == 0:\n",
    "            sim_params[\"Simulation_time\"] = parts[0]\n",
    "            sim_params_count += 1\n",
    "        else:\n",
    "            sim_params[\"# of iterations\"] = parts[0]\n",
    "            \n",
    "    return sim_params, Resistors, Vsources, Isources\n",
    "\n",
    "#read_circuit_file(\"./testcases/1.txt\")\n",
    "\n",
    "assert read_circuit_file(\"./testcases/1.txt\") == ({'Simulation_time': '0.1', '# of iterations': '1'},\n",
    "    {'0': ('1', '2', '3', '0'), '1': ('2', '0', '3', '0')},\n",
    "    {'0': ('1', '0', '10', '0')},\n",
    "    {})\n"
   ]
  },
  {
   "cell_type": "code",
   "execution_count": 103,
   "metadata": {},
   "outputs": [],
   "source": [
    "def calculate_nodes(Resistors, Vsources, Isources):\n",
    "    # Get list of all nodes\n",
    "    nodes = set()\n",
    "    \n",
    "    for c in Resistors.values():\n",
    "        nodes.add(c[0])\n",
    "        nodes.add(c[1])\n",
    "    for c in Vsources.values():\n",
    "        nodes.add(c[0])\n",
    "        nodes.add(c[1])\n",
    "    for c in Isources.values():\n",
    "        nodes.add(c[0])\n",
    "        nodes.add(c[1])\n",
    "    nodes = list(nodes)\n",
    "    return nodes\n",
    "\n",
    "\n",
    "assert calculate_nodes(read_circuit_file(\"./testcases/1.txt\")[1], read_circuit_file(\"./testcases/1.txt\")[2], read_circuit_file(\"./testcases/1.txt\")[3]) == ['0', '2', '1']\n",
    "\n",
    "#calculate_nodes(read_circuit_file(\"./testcases/1.txt\")[1], read_circuit_file(\"./testcases/1.txt\")[2])"
   ]
  },
  {
   "cell_type": "code",
   "execution_count": 104,
   "metadata": {},
   "outputs": [
    {
     "data": {
      "text/plain": [
       "matrix([[ 0.33333333,  0.        , -0.33333333, -1.        ],\n",
       "        [ 0.        ,  0.33333333, -0.33333333,  1.        ],\n",
       "        [-0.33333333, -0.33333333,  0.66666667,  0.        ],\n",
       "        [-1.        ,  1.        ,  0.        ,  0.        ]])"
      ]
     },
     "execution_count": 104,
     "metadata": {},
     "output_type": "execute_result"
    }
   ],
   "source": [
    "\n",
    "\n",
    "def generate_A_matrix(nodes, Resistors, Vsources):\n",
    "\n",
    "    n = len(nodes)  \n",
    "    m = len(Vsources) \n",
    "    \n",
    "    G = np.zeros((n,n))\n",
    "    B = np.zeros((n,m))\n",
    "    C = np.zeros((m,n))\n",
    "    D = np.zeros((m,m))\n",
    "\n",
    "    # Build G matrix\n",
    "    for i in range(n):\n",
    "        for j in range(n):\n",
    "            conductance = 0\n",
    "            if i==j:\n",
    "                for c in Resistors.values():\n",
    "                    #print(c)\n",
    "                    if c[0] == nodes[i] or c[1] == nodes[i]:\n",
    "                        conductance += 1/int(c[2]) \n",
    "            else:               \n",
    "                for c in Resistors.values():\n",
    "                    if (c[0] == nodes[i] and c[1] == nodes[j]) or (c[1] == nodes[i] and c[0] == nodes[j]):\n",
    "                        conductance -= 1/int(c[2]) \n",
    "                        \n",
    "            G[i,j] = conductance\n",
    "\n",
    "    # Build B matrix        \n",
    "    for i, c in enumerate(Vsources.values()):\n",
    "        B[int(c[0]),i] = 1 # node1 is c[0] which is the node connected to positive battery side and c[1] is the negative node \n",
    "        B[int(c[1]),i] = -1 \n",
    "\n",
    "    # Build C matrix (transpose of B)\n",
    "    C = B.transpose()\n",
    "    \n",
    "    # Combine into A matrix\n",
    "    A = np.bmat([[G, B], \n",
    "                    [C, D]])\n",
    "    \n",
    "    return A\n",
    "\n",
    "generate_A_matrix(['0', '1', '2'], \n",
    "    {'0': ('1', '2', '3', '0'), '1': ('2', '0', '3', '0')},\n",
    "    {'0': ('1', '0', '10', '0')})\n"
   ]
  },
  {
   "cell_type": "code",
   "execution_count": 120,
   "metadata": {},
   "outputs": [
    {
     "data": {
      "text/plain": [
       "array([ 0., 10.,  0., 10.])"
      ]
     },
     "execution_count": 120,
     "metadata": {},
     "output_type": "execute_result"
    }
   ],
   "source": [
    "\n",
    "def get_z_matrix(nodes, Vsources, Isources):\n",
    "\n",
    "    n = len(nodes)\n",
    "    m = len(Vsources)\n",
    "    \n",
    "    i = np.zeros(n)\n",
    "    e = np.zeros(m)\n",
    "    \n",
    "    for idx, source in Isources.items():\n",
    "        i[nodes.index(source[0])] += float(source[2]) # adding current into the node its entering\n",
    "\n",
    "    vsrc_idx = 0 \n",
    "    for idx, source in Vsources.items():\n",
    "        e[vsrc_idx] = float(source[2])\n",
    "        vsrc_idx += 1\n",
    "\n",
    "    z = np.concatenate([i, e])\n",
    "    \n",
    "    # Split z into i and e\n",
    "    # i = z[:A.shape[0]] \n",
    "    # e = z[A.shape[0]:]\n",
    "    \n",
    "    return z\n",
    "\n",
    "get_z_matrix(['0', '1', '2'], \n",
    "    {'0': ('1', '0', '10', '0')},\n",
    "    {})\n",
    "\n",
    "# get_z_matrix(['0', '1', '2'], \n",
    "#         {'0': ('1', '0', '10', '0')},\n",
    "#         {'0': ('1', '0', '10', '0')})"
   ]
  },
  {
   "cell_type": "code",
   "execution_count": 119,
   "metadata": {},
   "outputs": [
    {
     "data": {
      "text/plain": [
       "(matrix([[-6.66666667,  3.33333333,  3.33333333, -3.33333333]]),\n",
       " matrix([], shape=(0, 4), dtype=float64))"
      ]
     },
     "execution_count": 119,
     "metadata": {},
     "output_type": "execute_result"
    }
   ],
   "source": [
    "\n",
    "def solve(A, z):\n",
    "\n",
    "    # Solve Ax = z\n",
    "    #x = np.linalg.solve(A, z)\n",
    "    x = np.linalg.pinv(A) @ z\n",
    "\n",
    "    # Split x into v and j\n",
    "    v = x[:A.shape[0]]\n",
    "    j = x[A.shape[0]:]\n",
    "\n",
    "    return v, j\n",
    "\n",
    "\n",
    "sim_params, Resistors, Vsources, Isources  = read_circuit_file(\"./testcases/1.txt\")\n",
    "nodes = calculate_nodes(Resistors, Vsources, Isources)\n",
    "A = generate_A_matrix(nodes, Resistors, Vsources)\n",
    "z = get_z_matrix(nodes, Vsources, Isources)\n",
    "\n",
    "solve(A, z)"
   ]
  }
 ],
 "metadata": {
  "kernelspec": {
   "display_name": "Python 3",
   "language": "python",
   "name": "python3"
  },
  "language_info": {
   "codemirror_mode": {
    "name": "ipython",
    "version": 3
   },
   "file_extension": ".py",
   "mimetype": "text/x-python",
   "name": "python",
   "nbconvert_exporter": "python",
   "pygments_lexer": "ipython3",
   "version": "3.11.3"
  }
 },
 "nbformat": 4,
 "nbformat_minor": 2
}
